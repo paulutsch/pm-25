{
 "cells": [
  {
   "cell_type": "markdown",
   "metadata": {},
   "source": [
    "# Setup"
   ]
  },
  {
   "cell_type": "code",
   "execution_count": null,
   "metadata": {
    "execution": {
     "iopub.execute_input": "2025-04-26T09:10:25.391340Z",
     "iopub.status.busy": "2025-04-26T09:10:25.391050Z",
     "iopub.status.idle": "2025-04-26T09:10:25.395737Z",
     "shell.execute_reply": "2025-04-26T09:10:25.394879Z",
     "shell.execute_reply.started": "2025-04-26T09:10:25.391322Z"
    },
    "trusted": true
   },
   "outputs": [],
   "source": [
    "MODEL_UID = \"unsloth/llama-3.2-1B-bnb-4bit\"\n",
    "DATASET_UID = \"allenai/tulu-3-sft-personas-algebra\"\n",
    "print(\"Done\")"
   ]
  },
  {
   "cell_type": "code",
   "execution_count": null,
   "metadata": {
    "_cell_guid": "b1076dfc-b9ad-4769-8c92-a6c4dae69d19",
    "_uuid": "8f2839f25d086af736a60e9eeb907d3b93b6e0e5",
    "execution": {
     "iopub.execute_input": "2025-04-26T09:10:27.733986Z",
     "iopub.status.busy": "2025-04-26T09:10:27.733313Z",
     "iopub.status.idle": "2025-04-26T09:10:53.865132Z",
     "shell.execute_reply": "2025-04-26T09:10:53.864200Z",
     "shell.execute_reply.started": "2025-04-26T09:10:27.733964Z"
    },
    "trusted": true
   },
   "outputs": [],
   "source": [
    "!git clone https://github.com/EleutherAI/lm-evaluation-harness.git\n",
    "!pip install -e ./lm-evaluation-harness/.\n",
    "!pip install unsloth transformers datasets"
   ]
  },
  {
   "cell_type": "markdown",
   "metadata": {},
   "source": [
    "# Fine-Tuning"
   ]
  },
  {
   "cell_type": "code",
   "execution_count": null,
   "metadata": {
    "execution": {
     "iopub.execute_input": "2025-04-26T09:11:39.157014Z",
     "iopub.status.busy": "2025-04-26T09:11:39.156757Z",
     "iopub.status.idle": "2025-04-26T09:11:39.169531Z",
     "shell.execute_reply": "2025-04-26T09:11:39.168621Z",
     "shell.execute_reply.started": "2025-04-26T09:11:39.156997Z"
    },
    "trusted": true
   },
   "outputs": [],
   "source": [
    "from unsloth import FastLanguageModel\n",
    "from transformers import BitsAndBytesConfig\n",
    "from trl import SFTTrainer, SFTConfig\n",
    "import torch\n",
    "from datasets import load_dataset\n",
    "import json\n",
    "\n",
    "model_name = MODEL_UID.split(\"/\")[-1]\n",
    "dataset_name = DATASET_UID.split(\"/\")[-1]\n",
    "\n",
    "base_model, tokenizer = FastLanguageModel.from_pretrained(\n",
    "    model_name = MODEL_UID,\n",
    "    max_seq_length = 2048,\n",
    "    dtype = None,\n",
    "    load_in_4bit = True\n",
    ")\n",
    "\n",
    "base_model.save_pretrained(f\"{model_name}\")\n",
    "tokenizer.save_pretrained(f\"{model_name}\")\n",
    "\n",
    "model = FastLanguageModel.get_peft_model(\n",
    "    base_model,\n",
    "    r = 16,\n",
    "    target_modules = [\"q_proj\", \"k_proj\", \"v_proj\", \"o_proj\",\n",
    "                      \"gate_proj\", \"up_proj\", \"down_proj\",],\n",
    "    lora_alpha = 16,\n",
    "    lora_dropout = 0, # Supports any, but = 0 is optimized\n",
    "    bias = \"none\",    # Supports any, but = \"none\" is optimized\n",
    "    # [NEW] \"unsloth\" uses 30% less VRAM, fits 2x larger batch sizes!\n",
    "    use_gradient_checkpointing = \"unsloth\", # True or \"unsloth\" for very long context\n",
    "    # random_state = 3407,\n",
    "    max_seq_length = 2048,\n",
    "    use_rslora = False,  # We support rank stabilized LoRA\n",
    "    loftq_config = None, # And LoftQ\n",
    ")\n",
    "\n",
    "model.config.quantization_config = BitsAndBytesConfig(\n",
    "    load_in_4bit=True,\n",
    "    bnb_4bit_use_double_quant=False,\n",
    "    bnb_4bit_quant_type=\"nf4\",\n",
    "    bnb_4bit_compute_dtype=torch.float16\n",
    ")\n",
    "\n",
    "train_dataset = load_dataset(DATASET_UID, split=\"train\")\n",
    "print(train_dataset[0].keys())\n",
    "print(json.dumps(train_dataset[0]['messages'], indent=2))\n",
    "\n",
    "def formatting_func(examples):\n",
    "    messages = examples[\"messages\"]\n",
    "    texts = [\"\".join([m[\"content\"].strip() + \"\\n\" for m in convo]).strip() for convo in messages]\n",
    "    return { \"text\": texts }\n",
    "\n",
    "train_dataset = train_dataset.map(formatting_func, batched=True)\n",
    "\n",
    "trainer = SFTTrainer(\n",
    "    model = model,\n",
    "    train_dataset = train_dataset,\n",
    "    tokenizer = tokenizer,\n",
    "    args = SFTConfig(\n",
    "        dataset_text_field = \"text\",\n",
    "        max_seq_length = 2048,\n",
    "        learning_rate = 2e-4,\n",
    "        per_device_train_batch_size = 2,\n",
    "        gradient_accumulation_steps = 4,\n",
    "        warmup_steps = 5,\n",
    "        max_steps = 1,\n",
    "        report_to=\"none\", # deactivate wandb\n",
    "        output_dir = \"outputs\",\n",
    "        optim = \"adamw_8bit\",\n",
    "    ),\n",
    ")\n",
    "\n",
    "trainer.train()\n",
    "\n",
    "\n",
    "model.save_pretrained(f\"{model_name}_finetuned_{dataset_name}\")\n",
    "tokenizer.save_pretrained(f\"{model_name}_finetuned_{dataset_name}\")\n"
   ]
  },
  {
   "cell_type": "markdown",
   "metadata": {},
   "source": [
    "# Evaluation"
   ]
  },
  {
   "cell_type": "code",
   "execution_count": null,
   "metadata": {
    "execution": {
     "iopub.execute_input": "2025-04-26T09:11:45.402137Z",
     "iopub.status.busy": "2025-04-26T09:11:45.401783Z",
     "iopub.status.idle": "2025-04-26T09:11:45.411516Z",
     "shell.execute_reply": "2025-04-26T09:11:45.410502Z",
     "shell.execute_reply.started": "2025-04-26T09:11:45.402110Z"
    },
    "trusted": true
   },
   "outputs": [],
   "source": [
    "import os\n",
    "import subprocess\n",
    "\n",
    "peft_path = f\"./{model_name}_finetuned_{dataset_name}\"\n",
    "output_path = f\"results/{model_name}_eval.json\"\n",
    "\n",
    "os.environ['HF_ALLOW_CODE_EVAL'] = \"1\"\n",
    "\n",
    "command = [\n",
    "    \"lm_eval\",\n",
    "    \"--model\", \"hf\",\n",
    "    \"--model_args\", f\"pretrained=./{model_name},peft={peft_path}\",\n",
    "    \"--tasks\", \"hellaswag,gsm8k,arc_easy,truthfulqa,winogrande,humaneval\",\n",
    "    \"--confirm_run_unsafe_code\",\n",
    "    \"--device\", \"cuda\",\n",
    "    \"--batch_size\", \"auto\",\n",
    "    \"--limit\", \"1\",\n",
    "    \"--output_path\", output_path,\n",
    "]\n",
    "\n",
    "subprocess.run(command)"
   ]
  }
 ],
 "metadata": {
  "kaggle": {
   "accelerator": "nvidiaTeslaT4",
   "dataSources": [],
   "dockerImageVersionId": 31011,
   "isGpuEnabled": true,
   "isInternetEnabled": true,
   "language": "python",
   "sourceType": "notebook"
  },
  "kernelspec": {
   "display_name": "Python 3",
   "language": "python",
   "name": "python3"
  },
  "language_info": {
   "codemirror_mode": {
    "name": "ipython",
    "version": 3
   },
   "file_extension": ".py",
   "mimetype": "text/x-python",
   "name": "python",
   "nbconvert_exporter": "python",
   "pygments_lexer": "ipython3",
   "version": "3.11.11"
  }
 },
 "nbformat": 4,
 "nbformat_minor": 4
}
